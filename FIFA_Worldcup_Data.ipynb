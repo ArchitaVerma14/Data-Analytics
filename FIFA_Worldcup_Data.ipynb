{
 "cells": [
  {
   "cell_type": "code",
   "execution_count": null,
   "id": "6bc4c416",
   "metadata": {},
   "outputs": [],
   "source": [
    "import pandas as pd\n",
    "import matplotlib.pyplot as plt\n",
    "\n",
    "# Load the Excel files\n",
    "match_df = pd.read_excel(r\"C:\\Users\\Harsh\\Downloads\\match.xlsx\")\n",
    "world_cup_players_df = pd.read_excel(r\"C:\\Users\\Harsh\\Downloads\\world_cup_players2.xlsx\")\n",
    "\n",
    "# Calculate total goals per year\n",
    "match_df['Total Goals'] = match_df['Home Team Goals'] + match_df['Away Team Goals']\n",
    "total_goals_per_year = match_df.groupby('Year')['Total Goals'].sum().reset_index()\n",
    "\n",
    "# Plot the data\n",
    "plt.figure(figsize=(12, 6))\n",
    "plt.plot(total_goals_per_year['Year'], total_goals_per_year['Total Goals'], marker='o', linestyle='-')\n",
    "plt.xlabel('Year')\n",
    "plt.ylabel('Total Goals')\n",
    "plt.title('Total Goals per Year in World Cup Matches')\n",
    "plt.grid(True)\n",
    "plt.show()\n"
   ]
  },
  {
   "cell_type": "code",
   "execution_count": null,
   "id": "437aad09",
   "metadata": {},
   "outputs": [],
   "source": [
    "plt.show()"
   ]
  },
  {
   "cell_type": "code",
   "execution_count": 26,
   "id": "2dd2ec30",
   "metadata": {},
   "outputs": [
    {
     "name": "stdout",
     "output_type": "stream",
     "text": [
      "   Year              Datetime    Stage         Stadium         City  \\\n",
      "0  1930  13 Jul 1930 - 15:00   Group 1         Pocitos  Montevideo    \n",
      "1  1930  13 Jul 1930 - 15:00   Group 4  Parque Central  Montevideo    \n",
      "2  1930  14 Jul 1930 - 12:45   Group 2  Parque Central  Montevideo    \n",
      "3  1930  14 Jul 1930 - 14:50   Group 3         Pocitos  Montevideo    \n",
      "4  1930  15 Jul 1930 - 16:00   Group 1  Parque Central  Montevideo    \n",
      "\n",
      "  Home Team Name  Home Team Goals  Away Team Goals Away Team Name  \\\n",
      "0         France              4.0              1.0         Mexico   \n",
      "1            USA              3.0              0.0        Belgium   \n",
      "2     Yugoslavia              2.0              1.0         Brazil   \n",
      "3        Romania              3.0              1.0           Peru   \n",
      "4      Argentina              1.0              0.0         France   \n",
      "\n",
      "  Win conditions  Attendance  Half-time Home Goals  Half-time Away Goals  \\\n",
      "0                     4444.0                   3.0                   0.0   \n",
      "1                    18346.0                   2.0                   0.0   \n",
      "2                    24059.0                   2.0                   0.0   \n",
      "3                     2549.0                   1.0                   0.0   \n",
      "4                    23409.0                   0.0                   0.0   \n",
      "\n",
      "                  Referee               Assistant 1  \\\n",
      "0  Lombardi Domingo (Uru)     Cristophe Henry (Bel)   \n",
      "1       Macias Jose (Arg)  Mateucci Francisco (Uru)   \n",
      "2     Tejada Anibal (Uru)   Vallarino Ricardo (Uru)   \n",
      "3   Warnken Alberto (Chi)       Langenus Jean (Bel)   \n",
      "4     Rego Gilberto (Bra)      Saucedo Ulises (Bol)   \n",
      "\n",
      "                  Assistant 2  RoundID  MatchID Home Team Initials  \\\n",
      "0         Rego Gilberto (Bra)    201.0   1096.0                FRA   \n",
      "1       Warnken Alberto (Chi)    201.0   1090.0                USA   \n",
      "2         Balway Thomas (Fra)    201.0   1093.0                YUG   \n",
      "3    Mateucci Francisco (Uru)    201.0   1098.0                ROU   \n",
      "4  Radulescu Constantin (Rou)    201.0   1085.0                ARG   \n",
      "\n",
      "  Away Team Initials  \n",
      "0                MEX  \n",
      "1                BEL  \n",
      "2                BRA  \n",
      "3                PER  \n",
      "4                FRA  \n"
     ]
    },
    {
     "data": {
      "image/png": "[encoded data removed]",
      "text/plain": [
       "<Figure size 864x432 with 1 Axes>"
      ]
     },
     "metadata": {
      "needs_background": "light"
     },
     "output_type": "display_data"
    }
   ],
   "source": [
    "import pandas as pd\n",
    "import matplotlib.pyplot as plt\n",
    "\n",
    "# Load the Excel file\n",
    "match_df = pd.read_excel(r\"C:\\Users\\Harsh\\Downloads\\match.xlsx\")\n",
    "\n",
    "# Check the first few rows to ensure data is loaded correctly\n",
    "print(match_df.head())\n",
    "\n",
    "# Plot Year vs. MatchID\n",
    "plt.figure(figsize=(12, 6))\n",
    "plt.scatter(match_df['Year'], match_df['MatchID'], alpha=0.6)  # Use scatter plot for better visualization\n",
    "plt.xlabel('Year')\n",
    "plt.ylabel('MatchID')\n",
    "plt.title('Year vs. MatchID in World Cup Matches')\n",
    "plt.grid(True)\n",
    "plt.show()\n"
   ]
  },
  {
   "cell_type": "code",
   "execution_count": null,
   "id": "da43d789",
   "metadata": {},
   "outputs": [],
   "source": []
  },
  {
   "cell_type": "code",
   "execution_count": 36,
   "id": "bbbc9910",
   "metadata": {},
   "outputs": [],
   "source": []
  },
  {
   "cell_type": "code",
   "execution_count": null,
   "id": "eb6e7b20",
   "metadata": {},
   "outputs": [],
   "source": []
  }
 ],
 "metadata": {
  "kernelspec": {
   "display_name": "Python 3",
   "language": "python",
   "name": "python3"
  },
  "language_info": {
   "codemirror_mode": {
    "name": "ipython",
    "version": 3
   },
   "file_extension": ".py",
   "mimetype": "text/x-python",
   "name": "python",
   "nbconvert_exporter": "python",
   "pygments_lexer": "ipython3",
   "version": "3.8.8"
  }
 },
 "nbformat": 4,
 "nbformat_minor": 5
}
